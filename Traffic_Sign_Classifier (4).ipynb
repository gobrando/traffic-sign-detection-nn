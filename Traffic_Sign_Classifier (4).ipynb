{
 "cells": [
  {
   "cell_type": "markdown",
   "metadata": {},
   "source": [
    "# Self-Driving Car Engineer Nanodegree\n",
    "\n",
    "## Deep Learning\n",
    "\n",
    "## Project: Build a Traffic Sign Recognition Classifier\n",
    "\n",
    "In this notebook, a template is provided for you to implement your functionality in stages, which is required to successfully complete this project. If additional code is required that cannot be included in the notebook, be sure that the Python code is successfully imported and included in your submission if necessary. \n",
    "\n",
    "> **Note**: Once you have completed all of the code implementations, you need to finalize your work by exporting the iPython Notebook as an HTML document. Before exporting the notebook to html, all of the code cells need to have been run so that reviewers can see the final implementation and output. You can then export the notebook by using the menu above and navigating to  \\n\",\n",
    "    \"**File -> Download as -> HTML (.html)**. Include the finished document along with this notebook as your submission. \n",
    "\n",
    "In addition to implementing code, there is a writeup to complete. The writeup should be completed in a separate file, which can be either a markdown file or a pdf document. There is a [write up template](https://github.com/udacity/CarND-Traffic-Sign-Classifier-Project/blob/master/writeup_template.md) that can be used to guide the writing process. Completing the code template and writeup template will cover all of the [rubric points](https://review.udacity.com/#!/rubrics/481/view) for this project.\n",
    "\n",
    "The [rubric](https://review.udacity.com/#!/rubrics/481/view) contains \"Stand Out Suggestions\" for enhancing the project beyond the minimum requirements. The stand out suggestions are optional. If you decide to pursue the \"stand out suggestions\", you can include the code in this Ipython notebook and also discuss the results in the writeup file.\n",
    "\n",
    "\n",
    ">**Note:** Code and Markdown cells can be executed using the **Shift + Enter** keyboard shortcut. In addition, Markdown cells can be edited by typically double-clicking the cell to enter edit mode."
   ]
  },
  {
   "cell_type": "markdown",
   "metadata": {},
   "source": [
    "---\n",
    "## Step 0: Load The Data"
   ]
  },
  {
   "cell_type": "code",
   "execution_count": 1,
   "metadata": {},
   "outputs": [],
   "source": [
    "# Load pickled data\n",
    "import pickle\n",
    "\n",
    "# TODO: Fill this in based on where you saved the training and testing data\n",
    "\n",
    "training_file = '/home/workspace/data/train.p'\n",
    "validation_file= '/home/workspace/data/valid.p'\n",
    "testing_file = '/home/workspace/data/test.p'\n",
    "\n",
    "with open(training_file, mode='rb') as f:\n",
    "    train = pickle.load(f)\n",
    "with open(validation_file, mode='rb') as f:\n",
    "    valid = pickle.load(f)\n",
    "with open(testing_file, mode='rb') as f:\n",
    "    test = pickle.load(f)\n",
    "    \n",
    "X_train, y_train = train['features'], train['labels']\n",
    "X_valid, y_valid = valid['features'], valid['labels']\n",
    "X_test, y_test = test['features'], test['labels']"
   ]
  },
  {
   "cell_type": "markdown",
   "metadata": {},
   "source": [
    "---\n",
    "\n",
    "## Step 1: Dataset Summary & Exploration\n",
    "\n",
    "The pickled data is a dictionary with 4 key/value pairs:\n",
    "\n",
    "- `'features'` is a 4D array containing raw pixel data of the traffic sign images, (num examples, width, height, channels).\n",
    "- `'labels'` is a 1D array containing the label/class id of the traffic sign. The file `signnames.csv` contains id -> name mappings for each id.\n",
    "- `'sizes'` is a list containing tuples, (width, height) representing the original width and height the image.\n",
    "- `'coords'` is a list containing tuples, (x1, y1, x2, y2) representing coordinates of a bounding box around the sign in the image. **THESE COORDINATES ASSUME THE ORIGINAL IMAGE. THE PICKLED DATA CONTAINS RESIZED VERSIONS (32 by 32) OF THESE IMAGES**\n",
    "\n",
    "Complete the basic data summary below. Use python, numpy and/or pandas methods to calculate the data summary rather than hard coding the results. For example, the [pandas shape method](http://pandas.pydata.org/pandas-docs/stable/generated/pandas.DataFrame.shape.html) might be useful for calculating some of the summary results. "
   ]
  },
  {
   "cell_type": "markdown",
   "metadata": {},
   "source": [
    "### Provide a Basic Summary of the Data Set Using Python, Numpy and/or Pandas"
   ]
  },
  {
   "cell_type": "code",
   "execution_count": 2,
   "metadata": {},
   "outputs": [
    {
     "name": "stdout",
     "output_type": "stream",
     "text": [
      "43\n"
     ]
    }
   ],
   "source": [
    "print(len(set(y_train)))"
   ]
  },
  {
   "cell_type": "code",
   "execution_count": 3,
   "metadata": {},
   "outputs": [
    {
     "name": "stdout",
     "output_type": "stream",
     "text": [
      "Number of training examples = 34799\n",
      "Number of testing examples = 12630\n",
      "Image data shape = (32, 32, 3)\n",
      "Number of classes = 43\n"
     ]
    }
   ],
   "source": [
    "### Replace each question mark with the appropriate value. \n",
    "### Use python, pandas or numpy methods rather than hard coding the results\n",
    "\n",
    "# Number of training examples\n",
    "n_train = len(X_train)\n",
    "\n",
    "# Number of validation examples\n",
    "n_validation = len(X_valid)\n",
    "\n",
    "# Number of testing examples.\n",
    "n_test = len(X_test)\n",
    "\n",
    "# What's the shape of an traffic sign image?\n",
    "image_shape = X_train[0].shape\n",
    "\n",
    "# How many unique classes/labels there are in the dataset.\n",
    "n_classes = len(set(y_train))\n",
    "\n",
    "print(\"Number of training examples =\", n_train)\n",
    "print(\"Number of testing examples =\", n_test)\n",
    "print(\"Image data shape =\", image_shape)\n",
    "print(\"Number of classes =\", n_classes)"
   ]
  },
  {
   "cell_type": "markdown",
   "metadata": {},
   "source": [
    "### Include an exploratory visualization of the dataset"
   ]
  },
  {
   "cell_type": "markdown",
   "metadata": {},
   "source": [
    "Visualize the German Traffic Signs Dataset using the pickled file(s). This is open ended, suggestions include: plotting traffic sign images, plotting the count of each sign, etc. \n",
    "\n",
    "The [Matplotlib](http://matplotlib.org/) [examples](http://matplotlib.org/examples/index.html) and [gallery](http://matplotlib.org/gallery.html) pages are a great resource for doing visualizations in Python.\n",
    "\n",
    "**NOTE:** It's recommended you start with something simple first. If you wish to do more, come back to it after you've completed the rest of the sections. It can be interesting to look at the distribution of classes in the training, validation and test set. Is the distribution the same? Are there more examples of some classes than others?"
   ]
  },
  {
   "cell_type": "code",
   "execution_count": 4,
   "metadata": {},
   "outputs": [
    {
     "name": "stdout",
     "output_type": "stream",
     "text": [
      "(34799,)\n"
     ]
    },
    {
     "data": {
      "text/plain": [
       "{0: 180,\n",
       " 1: 1980,\n",
       " 2: 2010,\n",
       " 3: 1260,\n",
       " 4: 1770,\n",
       " 5: 1650,\n",
       " 6: 360,\n",
       " 7: 1290,\n",
       " 8: 1260,\n",
       " 9: 1320,\n",
       " 10: 1800,\n",
       " 11: 1170,\n",
       " 12: 1890,\n",
       " 13: 1920,\n",
       " 14: 690,\n",
       " 15: 540,\n",
       " 16: 360,\n",
       " 17: 990,\n",
       " 18: 1080,\n",
       " 19: 180,\n",
       " 20: 300,\n",
       " 21: 270,\n",
       " 22: 330,\n",
       " 23: 450,\n",
       " 24: 240,\n",
       " 25: 1350,\n",
       " 26: 540,\n",
       " 27: 210,\n",
       " 28: 480,\n",
       " 29: 240,\n",
       " 30: 390,\n",
       " 31: 690,\n",
       " 32: 210,\n",
       " 33: 599,\n",
       " 34: 360,\n",
       " 35: 1080,\n",
       " 36: 330,\n",
       " 37: 180,\n",
       " 38: 1860,\n",
       " 39: 270,\n",
       " 40: 300,\n",
       " 41: 210,\n",
       " 42: 210}"
      ]
     },
     "execution_count": 4,
     "metadata": {},
     "output_type": "execute_result"
    }
   ],
   "source": [
    "import numpy as np\n",
    "print(y_train.shape)\n",
    "unique, counts = np.unique(y_train, return_counts=True)\n",
    "dict(zip(unique, counts))"
   ]
  },
  {
   "cell_type": "code",
   "execution_count": 5,
   "metadata": {},
   "outputs": [
    {
     "data": {
      "image/png": "[encoded data removed]",
      "text/plain": [
       "<matplotlib.figure.Figure at 0x7f85b5fef128>"
      ]
     },
     "metadata": {},
     "output_type": "display_data"
    }
   ],
   "source": [
    "import matplotlib.pyplot as plt\n",
    "import pandas as pd\n",
    "%matplotlib inline\n",
    "\n",
    "plt.rcdefaults()\n",
    "fig, ax = plt.subplots()\n",
    "\n",
    "N = len(set(y_train))\n",
    "results = y_train\n",
    "\n",
    "xticks = np.arange(start=1, stop=N+1)\n",
    "ax.bar(xticks, counts)\n",
    "\n",
    "ax.set_xlabel('Unique Traffic Signs')\n",
    "ax.set_ylabel('Number of Samples')\n",
    "ax.set_title('Diversity of Output Labels')\n",
    "\n",
    "plt.show()"
   ]
  },
  {
   "cell_type": "code",
   "execution_count": 6,
   "metadata": {},
   "outputs": [
    {
     "data": {
      "image/png": "[encoded data removed]",
      "text/plain": [
       "<matplotlib.figure.Figure at 0x7f85b40805c0>"
      ]
     },
     "metadata": {
      "needs_background": "light"
     },
     "output_type": "display_data"
    }
   ],
   "source": [
    "import random\n",
    "%matplotlib inline\n",
    "\n",
    "# show 10 random images from dataset\n",
    "fig, axs = plt.subplots(2,5, figsize=(15, 6))\n",
    "axs = axs.ravel()\n",
    "for i in range(10):\n",
    "    index = random.randint(0, len(X_train))\n",
    "    image = X_train[index]\n",
    "    #axs[i].axis('off')\n",
    "    axs[i].imshow(image)\n",
    "    axs[i].set_title(y_train[index])"
   ]
  },
  {
   "cell_type": "markdown",
   "metadata": {},
   "source": [
    "----\n",
    "\n",
    "## Step 2: Design and Test a Model Architecture\n",
    "\n",
    "Design and implement a deep learning model that learns to recognize traffic signs. Train and test your model on the [German Traffic Sign Dataset](http://benchmark.ini.rub.de/?section=gtsrb&subsection=dataset).\n",
    "\n",
    "The LeNet-5 implementation shown in the [classroom](https://classroom.udacity.com/nanodegrees/nd013/parts/fbf77062-5703-404e-b60c-95b78b2f3f9e/modules/6df7ae49-c61c-4bb2-a23e-6527e69209ec/lessons/601ae704-1035-4287-8b11-e2c2716217ad/concepts/d4aca031-508f-4e0b-b493-e7b706120f81) at the end of the CNN lesson is a solid starting point. You'll have to change the number of classes and possibly the preprocessing, but aside from that it's plug and play! \n",
    "\n",
    "With the LeNet-5 solution from the lecture, you should expect a validation set accuracy of about 0.89. To meet specifications, the validation set accuracy will need to be at least 0.93. It is possible to get an even higher accuracy, but 0.93 is the minimum for a successful project submission. \n",
    "\n",
    "There are various aspects to consider when thinking about this problem:\n",
    "\n",
    "- Neural network architecture (is the network over or underfitting?)\n",
    "- Play around preprocessing techniques (normalization, rgb to grayscale, etc)\n",
    "- Number of examples per label (some have more than others).\n",
    "- Generate fake data.\n",
    "\n",
    "Here is an example of a [published baseline model on this problem](http://yann.lecun.com/exdb/publis/pdf/sermanet-ijcnn-11.pdf). It's not required to be familiar with the approach used in the paper but, it's good practice to try to read papers like these."
   ]
  },
  {
   "cell_type": "markdown",
   "metadata": {},
   "source": [
    "### Pre-process the Data Set (normalization, grayscale, etc.)"
   ]
  },
  {
   "cell_type": "markdown",
   "metadata": {},
   "source": [
    "Minimally, the image data should be normalized so that the data has mean zero and equal variance. For image data, `(pixel - 128)/ 128` is a quick way to approximately normalize the data and can be used in this project. \n",
    "\n",
    "Other pre-processing steps are optional. You can try different techniques to see if it improves performance. \n",
    "\n",
    "Use the code cell (or multiple code cells, if necessary) to implement the first step of your project."
   ]
  },
  {
   "cell_type": "code",
   "execution_count": 7,
   "metadata": {},
   "outputs": [
    {
     "name": "stdout",
     "output_type": "stream",
     "text": [
      "(34799, 32, 32, 1)\n",
      "(12630, 32, 32, 1)\n",
      "(4410, 32, 32, 1)\n"
     ]
    }
   ],
   "source": [
    "### Preprocess the data here. It is required to normalize the data. Other preprocessing steps could include \n",
    "### converting to grayscale, etc.\n",
    "import tensorflow as tf\n",
    "from sklearn.utils import shuffle\n",
    "import cv2\n",
    "\n",
    "#grayscale\n",
    "def grayscale(image):\n",
    "    #gray = cv2.cvtColor(image, cv2.COLOR_RGB2GRAY)\n",
    "    gray_image = np.sum(image/3, axis=3, keepdims=True)\n",
    "    return gray_image\n",
    "\n",
    "X_train_rgb = X_train\n",
    "X_train_gray = grayscale(X_train)\n",
    "\n",
    "X_test_rgb = X_test\n",
    "X_test_gray = grayscale(X_test)\n",
    "\n",
    "X_valid_rgb = X_valid\n",
    "X_valid_gray = grayscale(X_valid)\n",
    "print(X_train_gray.shape)\n",
    "print(X_test_gray.shape)\n",
    "print(X_valid_gray.shape)"
   ]
  },
  {
   "cell_type": "code",
   "execution_count": 8,
   "metadata": {},
   "outputs": [
    {
     "name": "stdout",
     "output_type": "stream",
     "text": [
      "82.677589037\n",
      "82.1484603612\n"
     ]
    }
   ],
   "source": [
    "#are we centered at 0?\n",
    "print(np.mean(X_train))\n",
    "print(np.mean(X_test))"
   ]
  },
  {
   "cell_type": "code",
   "execution_count": 9,
   "metadata": {},
   "outputs": [],
   "source": [
    "#normalize\n",
    "def normalize(image):\n",
    "    normalized_image = (image - 128)/128\n",
    "    return normalized_image"
   ]
  },
  {
   "cell_type": "code",
   "execution_count": 10,
   "metadata": {},
   "outputs": [
    {
     "name": "stdout",
     "output_type": "stream",
     "text": [
      "1.21925099939\n",
      "1.21879869422\n"
     ]
    }
   ],
   "source": [
    "X_train_normalized = normalize(X_train)\n",
    "X_test_normalized = normalize(X_test)\n",
    "\n",
    "print(np.mean(X_train_normalized))\n",
    "print(np.mean(X_test_normalized))"
   ]
  },
  {
   "cell_type": "code",
   "execution_count": 11,
   "metadata": {},
   "outputs": [],
   "source": [
    "#equalize\n",
    "def equalize(image):\n",
    "    return cv2.equalizeHist(image)\n",
    "\n",
    "#sharpen\n",
    "def sharpen(image):\n",
    "    gauss = cv2.GaussianBlur(image,(5,5),0)\n",
    "    sharpened_image = cv2.addWeighted(image, 2, gauss, -1, 0)\n",
    "    return sharpened_image\n",
    "\n",
    "#rotate & shear randomly\n",
    "def rotate(image):\n",
    "    row = image.shape[1]\n",
    "    col = image.shape[2]\n",
    "    #for image in images:\n",
    "    print(image.shape)\n",
    "    #row,col = image.shape\n",
    "    #center=tuple(np.array([row,col])/2)\n",
    "    angle = 30*np.random.rand()-15\n",
    "    M = cv2.getRotationMatrix2D((col/2, row/2),angle,1)\n",
    "    print(M.shape)\n",
    "    print(M)\n",
    "    print(len(M))\n",
    "    print(image.shape[1])\n",
    "    rotated_image = cv2.warpAffine(image, M, (col,row))\n",
    "    return rotated_image\n",
    "\n",
    "#stretch/scale image\n",
    "def scale(image):\n",
    "    row, col = image.shape[1], image.shape[2]\n",
    "    stretch = np.random.randint(-2,2)\n",
    "\n",
    "    end_pts = np.float32([[stretch,stretch],[row-stretch,stretch],[stretch,col-stretch],[row-stretch,col-stretch]])\n",
    "    start_pts = np.float32([[0,0],[row,0],[0,col],[row,col]])\n",
    "    print(image.shape)\n",
    "    M = cv2.getPerspectiveTransform(end_pts,start_pts)\n",
    "    print(M.shape)\n",
    "    scaled_image = cv2.warpPerspective(image, M, (row,col))\n",
    "    print(scaled_image.shape)\n",
    "    scaled_image.reshape(32,32,1)\n",
    "    print(scaled_image.shape)\n",
    "    return scaled_image"
   ]
  },
  {
   "cell_type": "code",
   "execution_count": 12,
   "metadata": {},
   "outputs": [
    {
     "name": "stdout",
     "output_type": "stream",
     "text": [
      "(4410, 32, 32, 1)\n",
      "(3, 3)\n",
      "(32, 32)\n",
      "(32, 32)\n"
     ]
    },
    {
     "data": {
      "text/plain": [
       "array([[ 0.,  0.,  0., ...,  0.,  0.,  0.],\n",
       "       [ 0.,  0.,  0., ...,  0.,  0.,  0.],\n",
       "       [ 0.,  0.,  0., ...,  0.,  0.,  0.],\n",
       "       ..., \n",
       "       [ 0.,  0.,  0., ...,  0.,  0.,  0.],\n",
       "       [ 0.,  0.,  0., ...,  0.,  0.,  0.],\n",
       "       [ 0.,  0.,  0., ...,  0.,  0.,  0.]])"
      ]
     },
     "execution_count": 12,
     "metadata": {},
     "output_type": "execute_result"
    }
   ],
   "source": [
    "gray = grayscale(X_valid)\n",
    "scale(gray)"
   ]
  },
  {
   "cell_type": "code",
   "execution_count": 13,
   "metadata": {},
   "outputs": [],
   "source": [
    "#preprocess pipeline\n",
    "def preprocess_pipeline(image):\n",
    "    gray = grayscale(image)\n",
    "    normalized = normalize(gray)\n",
    "    return normalized"
   ]
  },
  {
   "cell_type": "code",
   "execution_count": 14,
   "metadata": {},
   "outputs": [
    {
     "name": "stdout",
     "output_type": "stream",
     "text": [
      "(34799, 32, 32, 3)\n"
     ]
    }
   ],
   "source": [
    "print(X_train.shape)"
   ]
  },
  {
   "cell_type": "code",
   "execution_count": 15,
   "metadata": {},
   "outputs": [],
   "source": [
    "#clean and augment data\n",
    "X_train = preprocess_pipeline(X_train)\n",
    "X_valid = preprocess_pipeline(X_valid)\n",
    "X_test = preprocess_pipeline(X_test)"
   ]
  },
  {
   "cell_type": "code",
   "execution_count": 16,
   "metadata": {},
   "outputs": [
    {
     "name": "stdout",
     "output_type": "stream",
     "text": [
      "(34799, 32, 32, 1)\n"
     ]
    }
   ],
   "source": [
    "print(X_train.shape)"
   ]
  },
  {
   "cell_type": "markdown",
   "metadata": {},
   "source": [
    "### Model Architecture"
   ]
  },
  {
   "cell_type": "code",
   "execution_count": 17,
   "metadata": {},
   "outputs": [],
   "source": [
    "from tensorflow.contrib.layers import flatten\n",
    "\n",
    "def LeNet(x):\n",
    "    mu = 0\n",
    "    sigma = 0.1\n",
    "    classes = 43\n",
    "    dropout = 0.6\n",
    "    k = 2\n",
    "    \n",
    "    weights = {\n",
    "        'c1': tf.Variable(tf.truncated_normal(shape=(5, 5, 1, 12), mean=mu, stddev=sigma)),\n",
    "        'c12': tf.Variable(tf.truncated_normal(shape=(5, 5, 12, 32), mean=mu, stddev=sigma)),\n",
    "        'c2': tf.Variable(tf.truncated_normal(shape=(5, 5, 32, 64), mean=mu, stddev=sigma)),\n",
    "        'c22': tf.Variable(tf.truncated_normal(shape=(5, 5, 64, 128), mean=mu, stddev=sigma)),\n",
    "        'fc1': tf.Variable(tf.truncated_normal(shape=(512, 256), mean=mu, stddev=sigma)),\n",
    "        'fc2': tf.Variable(tf.truncated_normal(shape=(256, 128), mean=mu, stddev=sigma)),\n",
    "        'out': tf.Variable(tf.truncated_normal(shape=(128, classes), mean=mu, stddev=sigma))\n",
    "    }\n",
    "    biases = {\n",
    "        'c1': tf.Variable(tf.zeros(12)),\n",
    "        'c12': tf.Variable(tf.zeros(32)),\n",
    "        'c2': tf.Variable(tf.zeros(64)),\n",
    "        'c22': tf.Variable(tf.zeros(128)),\n",
    "        'fc1': tf.Variable(tf.zeros(256)),\n",
    "        'fc2': tf.Variable(tf.zeros(128)),\n",
    "        'out': tf.Variable(tf.zeros(classes))\n",
    "    }\n",
    "    print(x.shape)\n",
    "    conv1 = tf.nn.conv2d(x, weights['c1'], strides=[1,1,1,1], padding='VALID') + biases['c1']\n",
    "    # Activation.\n",
    "    conv1 = tf.layers.batch_normalization(conv1)\n",
    "    conv1 = tf.nn.relu(conv1)\n",
    "    conv12 = tf.nn.conv2d(conv1, weights['c12'], strides=[1,1,1,1], padding='VALID') + biases['c12']\n",
    "    conv12 = tf.nn.relu(conv12)\n",
    "    # Pooling. Input = 28x28x6. Output = 14x14x6.\n",
    "    pool1 = tf.nn.max_pool(conv12, ksize=[1,k,k,1], strides=[1,k,k,1], padding='VALID')\n",
    "    print(pool1.shape)\n",
    "    # Layer 2: Convolutional. Output = 10x10x16.\n",
    "    conv2 = tf.nn.conv2d(pool1, weights['c2'], [1,1,1,1], 'VALID') + biases['c2']\n",
    "    conv2 = tf.layers.batch_normalization(conv2)\n",
    "    # Activation.\n",
    "    conv2 = tf.nn.relu(conv2)\n",
    "    conv22 = tf.nn.conv2d(conv2, weights['c22'], strides=[1,1,1,1], padding='VALID') + biases['c22']\n",
    "    conv22 = tf.nn.relu(conv22)\n",
    "    # Pooling. Input = 10x10x16. Output = 5x5x16.\n",
    "    pool2 = tf.nn.max_pool(conv22, [1,k,k,1], [1,k,k,1], 'VALID')\n",
    "    print(pool2.shape)\n",
    "    # Flatten. Input = 5x5x16. Output = 400.\n",
    "    flat_pool = flatten(pool2)\n",
    "    print(flat_pool.shape)\n",
    "    # Layer 3: Fully Connected. Input = 400. Output = 120.\n",
    "    fc1 = tf.matmul(flat_pool, weights['fc1']) + biases['fc1']\n",
    "    # Activation.\n",
    "    fc1 = tf.nn.relu(fc1)\n",
    "    fc1 = tf.nn.dropout(fc1, dropout)\n",
    "    print(fc1.shape)\n",
    "    # Layer 4: Fully Connected. Input = 120. Output = 84.\n",
    "    fc2 = tf.add(tf.matmul(fc1, weights['fc2']), biases['fc2'])\n",
    "    # Activation.\n",
    "    fc2 = tf.nn.relu(fc2)\n",
    "    fc2 = tf.nn.dropout(fc2, dropout)\n",
    "    print(fc2.shape)\n",
    "    # Layer 5: Fully Connected. Input = 84. Output = 43.\n",
    "    logits = tf.add(tf.matmul(fc2, weights['out']), biases['out'])\n",
    "    print(logits.shape)\n",
    "    return logits"
   ]
  },
  {
   "cell_type": "markdown",
   "metadata": {},
   "source": [
    "### Train, Validate and Test the Model"
   ]
  },
  {
   "cell_type": "markdown",
   "metadata": {},
   "source": [
    "A validation set can be used to assess how well the model is performing. A low accuracy on the training and validation\n",
    "sets imply underfitting. A high accuracy on the training set but low accuracy on the validation set implies overfitting."
   ]
  },
  {
   "cell_type": "code",
   "execution_count": 18,
   "metadata": {},
   "outputs": [
    {
     "name": "stdout",
     "output_type": "stream",
     "text": [
      "Tensor(\"one_hot:0\", dtype=float32)\n",
      "(?, 32, 32, 1)\n",
      "(?, 12, 12, 32)\n",
      "(?, 2, 2, 128)\n",
      "(?, 512)\n",
      "(?, 256)\n",
      "(?, 128)\n",
      "(?, 43)\n"
     ]
    }
   ],
   "source": [
    "x = tf.placeholder(tf.float32, (None, 32, 32, 1))\n",
    "y = tf.placeholder(tf.int32, (None))\n",
    "one_hot_y = tf.one_hot(y, 43)\n",
    "print(one_hot_y)\n",
    "\n",
    "rate = 0.001\n",
    "logits = LeNet(x)\n",
    "cross_entropy = tf.nn.softmax_cross_entropy_with_logits(labels=one_hot_y, logits=logits)\n",
    "loss_operation = tf.reduce_mean(cross_entropy)\n",
    "optimizer = tf.train.AdamOptimizer(learning_rate = rate)\n",
    "training_operation = optimizer.minimize(loss_operation)"
   ]
  },
  {
   "cell_type": "code",
   "execution_count": 19,
   "metadata": {},
   "outputs": [
    {
     "name": "stdout",
     "output_type": "stream",
     "text": [
      "Tensor(\"one_hot:0\", dtype=float32)\n",
      "Tensor(\"Add_1:0\", shape=(?, 43), dtype=float32)\n"
     ]
    }
   ],
   "source": [
    "print(one_hot_y)\n",
    "print(logits)\n",
    "#logits_size=[128,43] labels_size=[34799,43]"
   ]
  },
  {
   "cell_type": "code",
   "execution_count": 20,
   "metadata": {},
   "outputs": [],
   "source": [
    "correct_prediction = tf.equal(tf.argmax(logits, 1), tf.argmax(one_hot_y, 1))\n",
    "accuracy_operation = tf.reduce_mean(tf.cast(correct_prediction, tf.float32))\n",
    "saver = tf.train.Saver()\n",
    "\n",
    "def evaluate(X_data, y_data):\n",
    "    num_examples = len(X_data)\n",
    "    total_accuracy = 0\n",
    "    sess = tf.get_default_session()\n",
    "    for offset in range(0, num_examples, BATCH_SIZE):\n",
    "        batch_x, batch_y = X_data[offset:offset+BATCH_SIZE], y_data[offset:offset+BATCH_SIZE]\n",
    "        accuracy = sess.run(accuracy_operation, feed_dict={x: batch_x, y: batch_y})\n",
    "        total_accuracy += (accuracy * len(batch_x))\n",
    "    return total_accuracy / num_examples"
   ]
  },
  {
   "cell_type": "code",
   "execution_count": 21,
   "metadata": {},
   "outputs": [
    {
     "name": "stdout",
     "output_type": "stream",
     "text": [
      "Training...\n",
      "\n",
      "EPOCH 1 ...\n",
      "Validation Accuracy = 0.820\n",
      "\n",
      "EPOCH 2 ...\n",
      "Validation Accuracy = 0.915\n",
      "\n",
      "EPOCH 3 ...\n",
      "Validation Accuracy = 0.942\n",
      "\n",
      "EPOCH 4 ...\n",
      "Validation Accuracy = 0.944\n",
      "\n",
      "EPOCH 5 ...\n",
      "Validation Accuracy = 0.944\n",
      "\n",
      "EPOCH 6 ...\n",
      "Validation Accuracy = 0.946\n",
      "\n",
      "EPOCH 7 ...\n",
      "Validation Accuracy = 0.953\n",
      "\n",
      "EPOCH 8 ...\n",
      "Validation Accuracy = 0.961\n",
      "\n",
      "EPOCH 9 ...\n",
      "Validation Accuracy = 0.969\n",
      "\n",
      "Model saved\n"
     ]
    }
   ],
   "source": [
    "EPOCHS = 9\n",
    "BATCH_SIZE = 128\n",
    "\n",
    "with tf.Session() as sess:\n",
    "    sess.run(tf.global_variables_initializer())\n",
    "    num_examples = len(X_train)\n",
    "    valid_acc_results = []\n",
    "    test_acc_results = []\n",
    "    \n",
    "    print(\"Training...\")\n",
    "    print()\n",
    "    for i in range(EPOCHS):\n",
    "        X_train, y_train = shuffle(X_train, y_train)\n",
    "\n",
    "        for offset in range(0, num_examples, BATCH_SIZE):\n",
    "            end = offset + BATCH_SIZE\n",
    "            batch_x, batch_y = X_train[offset:end], y_train[offset:end]\n",
    "            sess.run(training_operation, feed_dict={x: batch_x, y: batch_y})\n",
    "            \n",
    "        validation_accuracy = evaluate(X_valid, y_valid)\n",
    "        valid_acc_results.append(validation_accuracy)\n",
    "        print(\"EPOCH {} ...\".format(i+1))\n",
    "        print(\"Validation Accuracy = {:.3f}\".format(validation_accuracy))\n",
    "        print()\n",
    "        \n",
    "    saver.save(sess, './lenet')\n",
    "    print(\"Model saved\")"
   ]
  },
  {
   "cell_type": "code",
   "execution_count": 22,
   "metadata": {},
   "outputs": [
    {
     "data": {
      "image/png": "[encoded data removed]",
      "text/plain": [
       "<matplotlib.figure.Figure at 0x7f853e87d4a8>"
      ]
     },
     "metadata": {
      "needs_background": "light"
     },
     "output_type": "display_data"
    }
   ],
   "source": [
    "plt.plot(valid_acc_results)\n",
    "plt.title('Validation Accuracy')\n",
    "plt.show()"
   ]
  },
  {
   "cell_type": "code",
   "execution_count": 23,
   "metadata": {},
   "outputs": [
    {
     "name": "stdout",
     "output_type": "stream",
     "text": [
      "(12630, 32, 32, 1)\n",
      "(12630,)\n"
     ]
    }
   ],
   "source": [
    "print(X_test.shape)\n",
    "print(y_test.shape)"
   ]
  },
  {
   "cell_type": "code",
   "execution_count": 24,
   "metadata": {},
   "outputs": [
    {
     "name": "stdout",
     "output_type": "stream",
     "text": [
      "INFO:tensorflow:Restoring parameters from ./lenet\n",
      "Test Accuracy = 0.947\n"
     ]
    }
   ],
   "source": [
    "with tf.Session() as sess:\n",
    "    saver.restore(sess, tf.train.latest_checkpoint('.'))\n",
    "    test_accuracy = evaluate(X_test, y_test)\n",
    "    print(\"Test Accuracy = {:.3f}\".format(test_accuracy))"
   ]
  },
  {
   "cell_type": "markdown",
   "metadata": {},
   "source": [
    "---\n",
    "\n",
    "## Step 3: Test a Model on New Images\n",
    "\n",
    "To give yourself more insight into how your model is working, download at least five pictures of German traffic signs from the web and use your model to predict the traffic sign type.\n",
    "\n",
    "You may find `signnames.csv` useful as it contains mappings from the class id (integer) to the actual sign name."
   ]
  },
  {
   "cell_type": "markdown",
   "metadata": {},
   "source": [
    "### Load and Output the Images"
   ]
  },
  {
   "cell_type": "code",
   "execution_count": 25,
   "metadata": {},
   "outputs": [
    {
     "data": {
      "image/png": "[encoded data removed]",
      "text/plain": [
       "<matplotlib.figure.Figure at 0x7f85bc0cc080>"
      ]
     },
     "metadata": {
      "needs_background": "light"
     },
     "output_type": "display_data"
    }
   ],
   "source": [
    "%matplotlib inline\n",
    "import matplotlib.pyplot as plt\n",
    "import matplotlib.image as mpimg\n",
    "import cv2\n",
    "\n",
    "img = mpimg.imread('/home/workspace/data/sign5.png')\n",
    "img = cv2.resize(img, (32,32))\n",
    "imgplot = plt.imshow(img)\n",
    "plt.show()"
   ]
  },
  {
   "cell_type": "code",
   "execution_count": 26,
   "metadata": {},
   "outputs": [
    {
     "name": "stdout",
     "output_type": "stream",
     "text": [
      "(105, 120, 3)\n",
      "(32, 32, 3)\n"
     ]
    },
    {
     "data": {
      "image/png": "[encoded data removed]",
      "text/plain": [
       "<matplotlib.figure.Figure at 0x7f852cb0f438>"
      ]
     },
     "metadata": {
      "needs_background": "light"
     },
     "output_type": "display_data"
    },
    {
     "name": "stdout",
     "output_type": "stream",
     "text": [
      "(105, 120, 3)\n",
      "(32, 32, 3)\n"
     ]
    },
    {
     "data": {
      "image/png": "[encoded data removed]",
      "text/plain": [
       "<matplotlib.figure.Figure at 0x7f852c3d4eb8>"
      ]
     },
     "metadata": {
      "needs_background": "light"
     },
     "output_type": "display_data"
    },
    {
     "name": "stdout",
     "output_type": "stream",
     "text": [
      "(105, 120, 3)\n",
      "(32, 32, 3)\n"
     ]
    },
    {
     "data": {
      "image/png": "[encoded data removed]",
      "text/plain": [
       "<matplotlib.figure.Figure at 0x7f852c21a588>"
      ]
     },
     "metadata": {
      "needs_background": "light"
     },
     "output_type": "display_data"
    },
    {
     "name": "stdout",
     "output_type": "stream",
     "text": [
      "(105, 120, 3)\n",
      "(32, 32, 3)\n"
     ]
    },
    {
     "data": {
      "image/png": "[encoded data removed]",
      "text/plain": [
       "<matplotlib.figure.Figure at 0x7f852c246160>"
      ]
     },
     "metadata": {
      "needs_background": "light"
     },
     "output_type": "display_data"
    },
    {
     "name": "stdout",
     "output_type": "stream",
     "text": [
      "(272, 298, 3)\n",
      "(32, 32, 3)\n"
     ]
    },
    {
     "data": {
      "image/png": "[encoded data removed]",
      "text/plain": [
       "<matplotlib.figure.Figure at 0x7f852c16f5f8>"
      ]
     },
     "metadata": {
      "needs_background": "light"
     },
     "output_type": "display_data"
    }
   ],
   "source": [
    "import matplotlib.pyplot as plt\n",
    "import cv2\n",
    "import numpy as np\n",
    "from PIL import Image\n",
    "\n",
    "### Load the images and plot them here.\n",
    "sign1 = cv2.imread('/home/workspace/data/sign1.png')\n",
    "#sign1 = cv2.resize(sign1, (32,32))\n",
    "sign2 = cv2.imread('/home/workspace/data/sign2.png')\n",
    "sign3 = cv2.imread('/home/workspace/data/sign3.png')\n",
    "sign4 = cv2.imread('/home/workspace/data/sign4.png')\n",
    "sign5 = cv2.imread('/home/workspace/data/sign5.png')\n",
    "\n",
    "signs = [sign1, sign2, sign3, sign4, sign5]\n",
    "pauls_signs = []\n",
    "\n",
    "\n",
    "fig, axs = plt.subplots(1,5, figsize=(16,3))\n",
    "fig.suptitle('Internet Signs Test Images')\n",
    "axs = axs.ravel()\n",
    "for i in range(len(signs)):\n",
    "    #plt.figure(figsize=(16,9))\n",
    "    print(signs[i].shape)\n",
    "    #sign = grayscale(sign)\n",
    "    dim = (32,32)\n",
    "    sign = cv2.resize(signs[i], dim, interpolation = cv2.INTER_AREA)\n",
    "    print(sign.shape)\n",
    "    axs[i].imshow(sign)\n",
    "    #pauls_signs.append(grayscale(sign))\n",
    "    gray_sign = cv2.cvtColor(sign, cv2.COLOR_RGB2GRAY)\n",
    "    pauls_signs.append(normalize(gray_sign))\n",
    "    plt.imshow(sign)\n",
    "    plt.show()"
   ]
  },
  {
   "cell_type": "markdown",
   "metadata": {},
   "source": [
    "### Predict the Sign Type for Each Image"
   ]
  },
  {
   "cell_type": "code",
   "execution_count": 27,
   "metadata": {},
   "outputs": [
    {
     "name": "stdout",
     "output_type": "stream",
     "text": [
      "(5, 32, 32)\n",
      "(5, 32, 32, 1)\n",
      "(5, 43)\n"
     ]
    }
   ],
   "source": [
    "#x = tf.placeholder(tf.float32, (pauls_signs, 32, 32, 1))\n",
    "#y = tf.placeholder(tf.int32, (None))\n",
    "\n",
    "pauls_signs = np.array(pauls_signs)\n",
    "print(pauls_signs.shape)\n",
    "pauls_signs = np.expand_dims(pauls_signs, axis=3)\n",
    "print(pauls_signs.shape)\n",
    "#signs = np.array(signs)\n",
    "#my_signs = np.array(pauls_signs)\n",
    "#my_signs_gray = np.sum(my_signs/3, axis=3, keepdims=True)\n",
    "#print(my_signs.shape)\n",
    "#my_signs = normalize(my_signs)\n",
    "#print(my_signs.shape)\n",
    "#my_signs = preprocess_pipeline(pauls_signs)\n",
    "my_labels = np.array([23,30,25,28,18])\n",
    "labels = np.zeros((my_labels.size, 43))\n",
    "labels[np.arange(my_labels.size),my_labels] = 1\n",
    "print(labels.shape)\n",
    "\n",
    "test_labels = [23,30,25,28,18]\n",
    "#my_labels = np.array([my_labels])\n",
    "#y = tf.one_hot(my_labels, 43)\n",
    "#print(y)\n"
   ]
  },
  {
   "cell_type": "code",
   "execution_count": 28,
   "metadata": {},
   "outputs": [
    {
     "name": "stdout",
     "output_type": "stream",
     "text": [
      "[[[[ 1.       ]\n",
      "   [ 1.       ]\n",
      "   [ 1.       ]\n",
      "   ..., \n",
      "   [ 1.       ]\n",
      "   [ 1.       ]\n",
      "   [ 1.       ]]\n",
      "\n",
      "  [[ 1.       ]\n",
      "   [ 1.       ]\n",
      "   [ 1.       ]\n",
      "   ..., \n",
      "   [ 1.       ]\n",
      "   [ 1.       ]\n",
      "   [ 1.       ]]\n",
      "\n",
      "  [[ 1.       ]\n",
      "   [ 1.       ]\n",
      "   [ 1.       ]\n",
      "   ..., \n",
      "   [ 1.       ]\n",
      "   [ 1.       ]\n",
      "   [ 1.       ]]\n",
      "\n",
      "  ..., \n",
      "  [[ 0.1171875]\n",
      "   [ 1.328125 ]\n",
      "   [ 1.3203125]\n",
      "   ..., \n",
      "   [ 1.3203125]\n",
      "   [ 1.328125 ]\n",
      "   [ 0.1328125]]\n",
      "\n",
      "  [[ 0.0078125]\n",
      "   [ 1.3203125]\n",
      "   [ 1.3203125]\n",
      "   ..., \n",
      "   [ 1.3203125]\n",
      "   [ 1.3203125]\n",
      "   [ 0.       ]]\n",
      "\n",
      "  [[ 0.1328125]\n",
      "   [ 0.09375  ]\n",
      "   [ 0.0546875]\n",
      "   ..., \n",
      "   [ 0.0546875]\n",
      "   [ 0.0859375]\n",
      "   [ 0.125    ]]]\n",
      "\n",
      "\n",
      " [[[ 1.       ]\n",
      "   [ 1.       ]\n",
      "   [ 1.       ]\n",
      "   ..., \n",
      "   [ 1.       ]\n",
      "   [ 1.       ]\n",
      "   [ 1.       ]]\n",
      "\n",
      "  [[ 1.       ]\n",
      "   [ 1.       ]\n",
      "   [ 1.       ]\n",
      "   ..., \n",
      "   [ 1.       ]\n",
      "   [ 1.       ]\n",
      "   [ 1.       ]]\n",
      "\n",
      "  [[ 1.       ]\n",
      "   [ 1.       ]\n",
      "   [ 1.       ]\n",
      "   ..., \n",
      "   [ 1.       ]\n",
      "   [ 1.       ]\n",
      "   [ 1.       ]]\n",
      "\n",
      "  ..., \n",
      "  [[ 0.1171875]\n",
      "   [ 1.328125 ]\n",
      "   [ 1.3203125]\n",
      "   ..., \n",
      "   [ 1.3203125]\n",
      "   [ 1.328125 ]\n",
      "   [ 0.1328125]]\n",
      "\n",
      "  [[ 0.0078125]\n",
      "   [ 1.3203125]\n",
      "   [ 1.3203125]\n",
      "   ..., \n",
      "   [ 1.3203125]\n",
      "   [ 1.3203125]\n",
      "   [ 0.       ]]\n",
      "\n",
      "  [[ 0.1328125]\n",
      "   [ 0.09375  ]\n",
      "   [ 0.0546875]\n",
      "   ..., \n",
      "   [ 0.0546875]\n",
      "   [ 0.0859375]\n",
      "   [ 0.125    ]]]\n",
      "\n",
      "\n",
      " [[[ 1.       ]\n",
      "   [ 1.       ]\n",
      "   [ 1.       ]\n",
      "   ..., \n",
      "   [ 1.       ]\n",
      "   [ 1.       ]\n",
      "   [ 1.       ]]\n",
      "\n",
      "  [[ 1.       ]\n",
      "   [ 1.       ]\n",
      "   [ 1.       ]\n",
      "   ..., \n",
      "   [ 1.       ]\n",
      "   [ 1.       ]\n",
      "   [ 1.       ]]\n",
      "\n",
      "  [[ 1.       ]\n",
      "   [ 1.       ]\n",
      "   [ 1.       ]\n",
      "   ..., \n",
      "   [ 1.       ]\n",
      "   [ 1.       ]\n",
      "   [ 1.       ]]\n",
      "\n",
      "  ..., \n",
      "  [[ 0.1328125]\n",
      "   [ 1.328125 ]\n",
      "   [ 1.3203125]\n",
      "   ..., \n",
      "   [ 1.3203125]\n",
      "   [ 1.328125 ]\n",
      "   [ 0.1171875]]\n",
      "\n",
      "  [[ 0.015625 ]\n",
      "   [ 1.3203125]\n",
      "   [ 1.3203125]\n",
      "   ..., \n",
      "   [ 1.3203125]\n",
      "   [ 1.3203125]\n",
      "   [ 0.       ]]\n",
      "\n",
      "  [[ 0.125    ]\n",
      "   [ 0.0859375]\n",
      "   [ 0.0546875]\n",
      "   ..., \n",
      "   [ 0.0546875]\n",
      "   [ 0.09375  ]\n",
      "   [ 0.1328125]]]\n",
      "\n",
      "\n",
      " [[[ 1.       ]\n",
      "   [ 1.       ]\n",
      "   [ 1.       ]\n",
      "   ..., \n",
      "   [ 1.       ]\n",
      "   [ 1.       ]\n",
      "   [ 1.       ]]\n",
      "\n",
      "  [[ 1.       ]\n",
      "   [ 1.       ]\n",
      "   [ 1.       ]\n",
      "   ..., \n",
      "   [ 1.       ]\n",
      "   [ 1.       ]\n",
      "   [ 1.       ]]\n",
      "\n",
      "  [[ 1.       ]\n",
      "   [ 1.       ]\n",
      "   [ 1.       ]\n",
      "   ..., \n",
      "   [ 1.       ]\n",
      "   [ 1.       ]\n",
      "   [ 1.       ]]\n",
      "\n",
      "  ..., \n",
      "  [[ 0.1328125]\n",
      "   [ 1.328125 ]\n",
      "   [ 1.3203125]\n",
      "   ..., \n",
      "   [ 1.3203125]\n",
      "   [ 1.328125 ]\n",
      "   [ 0.1171875]]\n",
      "\n",
      "  [[ 0.015625 ]\n",
      "   [ 1.3203125]\n",
      "   [ 1.3203125]\n",
      "   ..., \n",
      "   [ 1.3203125]\n",
      "   [ 1.3203125]\n",
      "   [ 0.       ]]\n",
      "\n",
      "  [[ 0.125    ]\n",
      "   [ 0.0859375]\n",
      "   [ 0.0546875]\n",
      "   ..., \n",
      "   [ 0.0546875]\n",
      "   [ 0.09375  ]\n",
      "   [ 0.1328125]]]\n",
      "\n",
      "\n",
      " [[[ 0.9921875]\n",
      "   [ 0.9921875]\n",
      "   [ 0.9921875]\n",
      "   ..., \n",
      "   [ 0.9921875]\n",
      "   [ 0.9921875]\n",
      "   [ 0.9921875]]\n",
      "\n",
      "  [[ 0.9921875]\n",
      "   [ 0.9921875]\n",
      "   [ 0.9921875]\n",
      "   ..., \n",
      "   [ 0.9921875]\n",
      "   [ 0.9921875]\n",
      "   [ 0.9921875]]\n",
      "\n",
      "  [[ 0.9921875]\n",
      "   [ 0.9921875]\n",
      "   [ 0.9921875]\n",
      "   ..., \n",
      "   [ 0.9921875]\n",
      "   [ 0.9921875]\n",
      "   [ 0.9921875]]\n",
      "\n",
      "  ..., \n",
      "  [[ 0.9921875]\n",
      "   [ 0.9921875]\n",
      "   [ 0.9921875]\n",
      "   ..., \n",
      "   [ 0.9921875]\n",
      "   [ 0.9921875]\n",
      "   [ 0.9921875]]\n",
      "\n",
      "  [[ 0.9921875]\n",
      "   [ 0.9921875]\n",
      "   [ 0.9921875]\n",
      "   ..., \n",
      "   [ 0.9921875]\n",
      "   [ 0.9921875]\n",
      "   [ 0.9921875]]\n",
      "\n",
      "  [[ 0.9921875]\n",
      "   [ 0.9921875]\n",
      "   [ 0.9921875]\n",
      "   ..., \n",
      "   [ 0.9921875]\n",
      "   [ 0.9921875]\n",
      "   [ 0.9921875]]]]\n"
     ]
    }
   ],
   "source": [
    "print(pauls_signs)"
   ]
  },
  {
   "cell_type": "code",
   "execution_count": 29,
   "metadata": {},
   "outputs": [
    {
     "name": "stdout",
     "output_type": "stream",
     "text": [
      "(5, 32, 32, 1)\n",
      "[23 30 25 28 18]\n",
      "Test Accuracy = 0.000\n"
     ]
    }
   ],
   "source": [
    "### Run the predictions here and use the model to output the prediction for each image.\n",
    "### Make sure to pre-process the images with the same pre-processing pipeline used earlier.\n",
    "#saver = tf.train.Saver()\n",
    "import tensorflow as tf\n",
    "from sklearn.utils import shuffle\n",
    "import cv2\n",
    "\n",
    "with tf.Session() as sess:\n",
    "    sess.run(tf.global_variables_initializer())\n",
    "    tf.train.latest_checkpoint('.')\n",
    "    print(pauls_signs.shape)\n",
    "    print(my_labels)\n",
    "    test_accuracy = evaluate(pauls_signs, test_labels)\n",
    "    print(\"Test Accuracy = {:.3f}\".format(test_accuracy))"
   ]
  },
  {
   "cell_type": "markdown",
   "metadata": {},
   "source": [
    "### Analyze Performance"
   ]
  },
  {
   "cell_type": "code",
   "execution_count": 119,
   "metadata": {},
   "outputs": [
    {
     "name": "stdout",
     "output_type": "stream",
     "text": [
      "INFO:tensorflow:Restoring parameters from ./lenet\n"
     ]
    },
    {
     "ename": "TypeError",
     "evalue": "Expected binary or unicode string, got array([[[ 1.       ,  1.       ,  1.       ],\n        [ 1.       ,  1.       ,  1.       ],\n        [ 1.       ,  1.       ,  1.       ],\n        ..., \n        [ 1.       ,  1.       ,  1.       ],\n        [ 1.       ,  1.       ,  1.       ],\n        [ 1.       ,  1.       ,  1.       ]],\n\n       [[ 1.       ,  1.       ,  1.       ],\n        [ 1.       ,  1.       ,  1.       ],\n        [ 1.       ,  1.       ,  1.       ],\n        ..., \n        [ 1.       ,  1.       ,  1.       ],\n        [ 1.       ,  1.       ,  1.       ],\n        [ 1.       ,  1.       ,  1.       ]],\n\n       [[ 1.       ,  1.       ,  1.       ],\n        [ 1.       ,  1.       ,  1.       ],\n        [ 1.       ,  1.       ,  1.       ],\n        ..., \n        [ 1.       ,  1.       ,  1.       ],\n        [ 1.       ,  1.       ,  1.       ],\n        [ 1.       ,  1.       ,  1.       ]],\n\n       ..., \n       [[ 0.359375 ,  0.359375 ,  0.359375 ],\n        [ 0.9375   ,  0.9375   ,  0.9375   ],\n        [ 0.5703125,  0.546875 ,  0.875    ],\n        ..., \n        [ 0.5078125,  0.484375 ,  0.859375 ],\n        [ 0.9375   ,  0.9375   ,  0.9375   ],\n        [ 0.34375  ,  0.34375  ,  0.34375  ]],\n\n       [[ 1.       ,  1.       ,  1.       ],\n        [ 0.515625 ,  0.515625 ,  0.515625 ],\n        [ 0.9296875,  0.9296875,  0.9296875],\n        ..., \n        [ 0.9375   ,  0.9375   ,  0.9375   ],\n        [ 0.5234375,  0.5234375,  0.5234375],\n        [ 1.       ,  1.       ,  1.       ]],\n\n       [[ 1.       ,  1.       ,  1.       ],\n        [ 1.       ,  1.       ,  1.       ],\n        [ 0.296875 ,  0.296875 ,  0.296875 ],\n        ..., \n        [ 0.296875 ,  0.296875 ,  0.296875 ],\n        [ 1.       ,  1.       ,  1.       ],\n        [ 1.       ,  1.       ,  1.       ]]])",
     "output_type": "error",
     "traceback": [
      "\u001b[0;31m---------------------------------------------------------------------------\u001b[0m",
      "\u001b[0;31mTypeError\u001b[0m                                 Traceback (most recent call last)",
      "\u001b[0;32m<ipython-input-119-b2ddb564a688>\u001b[0m in \u001b[0;36m<module>\u001b[0;34m()\u001b[0m\n\u001b[1;32m      8\u001b[0m \u001b[0;32mwith\u001b[0m \u001b[0mtf\u001b[0m\u001b[0;34m.\u001b[0m\u001b[0mSession\u001b[0m\u001b[0;34m(\u001b[0m\u001b[0;34m)\u001b[0m \u001b[0;32mas\u001b[0m \u001b[0msess\u001b[0m\u001b[0;34m:\u001b[0m\u001b[0;34m\u001b[0m\u001b[0m\n\u001b[1;32m      9\u001b[0m     \u001b[0msaver\u001b[0m\u001b[0;34m.\u001b[0m\u001b[0mrestore\u001b[0m\u001b[0;34m(\u001b[0m\u001b[0msess\u001b[0m\u001b[0;34m,\u001b[0m \u001b[0;34m'./lenet'\u001b[0m\u001b[0;34m)\u001b[0m\u001b[0;34m\u001b[0m\u001b[0m\n\u001b[0;32m---> 10\u001b[0;31m     \u001b[0mprobs\u001b[0m \u001b[0;34m=\u001b[0m \u001b[0mtf\u001b[0m\u001b[0;34m.\u001b[0m\u001b[0mnn\u001b[0m\u001b[0;34m.\u001b[0m\u001b[0msoftmax_cross_entropy_with_logits\u001b[0m\u001b[0;34m(\u001b[0m\u001b[0mlabels\u001b[0m\u001b[0;34m=\u001b[0m\u001b[0mmy_labels\u001b[0m\u001b[0;34m,\u001b[0m \u001b[0mlogits\u001b[0m\u001b[0;34m=\u001b[0m\u001b[0mmy_signs\u001b[0m\u001b[0;34m)\u001b[0m\u001b[0;34m\u001b[0m\u001b[0m\n\u001b[0m\u001b[1;32m     11\u001b[0m     \u001b[0msess\u001b[0m\u001b[0;34m.\u001b[0m\u001b[0mrun\u001b[0m\u001b[0;34m(\u001b[0m\u001b[0mtf\u001b[0m\u001b[0;34m.\u001b[0m\u001b[0mnn\u001b[0m\u001b[0;34m.\u001b[0m\u001b[0mtop_k\u001b[0m\u001b[0;34m(\u001b[0m\u001b[0mtf\u001b[0m\u001b[0;34m.\u001b[0m\u001b[0mconstant\u001b[0m\u001b[0;34m(\u001b[0m\u001b[0mprobs\u001b[0m\u001b[0;34m)\u001b[0m\u001b[0;34m,\u001b[0m \u001b[0mk\u001b[0m\u001b[0;34m=\u001b[0m\u001b[0;36m3\u001b[0m\u001b[0;34m)\u001b[0m\u001b[0;34m)\u001b[0m\u001b[0;34m\u001b[0m\u001b[0m\n\u001b[1;32m     12\u001b[0m     \u001b[0;31m#signs_top5 = top5(my_signs, my_labels, sess)\u001b[0m\u001b[0;34m\u001b[0m\u001b[0;34m\u001b[0m\u001b[0m\n",
      "\u001b[0;32m/opt/conda/lib/python3.6/site-packages/tensorflow/python/ops/nn_ops.py\u001b[0m in \u001b[0;36msoftmax_cross_entropy_with_logits\u001b[0;34m(_sentinel, labels, logits, dim, name)\u001b[0m\n\u001b[1;32m   1562\u001b[0m   \u001b[0;31m# results.\u001b[0m\u001b[0;34m\u001b[0m\u001b[0;34m\u001b[0m\u001b[0m\n\u001b[1;32m   1563\u001b[0m \u001b[0;34m\u001b[0m\u001b[0m\n\u001b[0;32m-> 1564\u001b[0;31m   \u001b[0mlogits\u001b[0m \u001b[0;34m=\u001b[0m \u001b[0mops\u001b[0m\u001b[0;34m.\u001b[0m\u001b[0mconvert_to_tensor\u001b[0m\u001b[0;34m(\u001b[0m\u001b[0mlogits\u001b[0m\u001b[0;34m)\u001b[0m\u001b[0;34m\u001b[0m\u001b[0m\n\u001b[0m\u001b[1;32m   1565\u001b[0m   \u001b[0mlabels\u001b[0m \u001b[0;34m=\u001b[0m \u001b[0mops\u001b[0m\u001b[0;34m.\u001b[0m\u001b[0mconvert_to_tensor\u001b[0m\u001b[0;34m(\u001b[0m\u001b[0mlabels\u001b[0m\u001b[0;34m)\u001b[0m\u001b[0;34m\u001b[0m\u001b[0m\n\u001b[1;32m   1566\u001b[0m   precise_logits = math_ops.cast(logits, dtypes.float32) if (\n",
      "\u001b[0;32m/opt/conda/lib/python3.6/site-packages/tensorflow/python/framework/ops.py\u001b[0m in \u001b[0;36mconvert_to_tensor\u001b[0;34m(value, dtype, name, preferred_dtype)\u001b[0m\n\u001b[1;32m    609\u001b[0m       \u001b[0mname\u001b[0m\u001b[0;34m=\u001b[0m\u001b[0mname\u001b[0m\u001b[0;34m,\u001b[0m\u001b[0;34m\u001b[0m\u001b[0m\n\u001b[1;32m    610\u001b[0m       \u001b[0mpreferred_dtype\u001b[0m\u001b[0;34m=\u001b[0m\u001b[0mpreferred_dtype\u001b[0m\u001b[0;34m,\u001b[0m\u001b[0;34m\u001b[0m\u001b[0m\n\u001b[0;32m--> 611\u001b[0;31m       as_ref=False)\n\u001b[0m\u001b[1;32m    612\u001b[0m \u001b[0;34m\u001b[0m\u001b[0m\n\u001b[1;32m    613\u001b[0m \u001b[0;34m\u001b[0m\u001b[0m\n",
      "\u001b[0;32m/opt/conda/lib/python3.6/site-packages/tensorflow/python/framework/ops.py\u001b[0m in \u001b[0;36minternal_convert_to_tensor\u001b[0;34m(value, dtype, name, as_ref, preferred_dtype)\u001b[0m\n\u001b[1;32m    674\u001b[0m \u001b[0;34m\u001b[0m\u001b[0m\n\u001b[1;32m    675\u001b[0m         \u001b[0;32mif\u001b[0m \u001b[0mret\u001b[0m \u001b[0;32mis\u001b[0m \u001b[0;32mNone\u001b[0m\u001b[0;34m:\u001b[0m\u001b[0;34m\u001b[0m\u001b[0m\n\u001b[0;32m--> 676\u001b[0;31m           \u001b[0mret\u001b[0m \u001b[0;34m=\u001b[0m \u001b[0mconversion_func\u001b[0m\u001b[0;34m(\u001b[0m\u001b[0mvalue\u001b[0m\u001b[0;34m,\u001b[0m \u001b[0mdtype\u001b[0m\u001b[0;34m=\u001b[0m\u001b[0mdtype\u001b[0m\u001b[0;34m,\u001b[0m \u001b[0mname\u001b[0m\u001b[0;34m=\u001b[0m\u001b[0mname\u001b[0m\u001b[0;34m,\u001b[0m \u001b[0mas_ref\u001b[0m\u001b[0;34m=\u001b[0m\u001b[0mas_ref\u001b[0m\u001b[0;34m)\u001b[0m\u001b[0;34m\u001b[0m\u001b[0m\n\u001b[0m\u001b[1;32m    677\u001b[0m \u001b[0;34m\u001b[0m\u001b[0m\n\u001b[1;32m    678\u001b[0m         \u001b[0;32mif\u001b[0m \u001b[0mret\u001b[0m \u001b[0;32mis\u001b[0m \u001b[0mNotImplemented\u001b[0m\u001b[0;34m:\u001b[0m\u001b[0;34m\u001b[0m\u001b[0m\n",
      "\u001b[0;32m/opt/conda/lib/python3.6/site-packages/tensorflow/python/framework/constant_op.py\u001b[0m in \u001b[0;36m_constant_tensor_conversion_function\u001b[0;34m(v, dtype, name, as_ref)\u001b[0m\n\u001b[1;32m    119\u001b[0m                                          as_ref=False):\n\u001b[1;32m    120\u001b[0m   \u001b[0m_\u001b[0m \u001b[0;34m=\u001b[0m \u001b[0mas_ref\u001b[0m\u001b[0;34m\u001b[0m\u001b[0m\n\u001b[0;32m--> 121\u001b[0;31m   \u001b[0;32mreturn\u001b[0m \u001b[0mconstant\u001b[0m\u001b[0;34m(\u001b[0m\u001b[0mv\u001b[0m\u001b[0;34m,\u001b[0m \u001b[0mdtype\u001b[0m\u001b[0;34m=\u001b[0m\u001b[0mdtype\u001b[0m\u001b[0;34m,\u001b[0m \u001b[0mname\u001b[0m\u001b[0;34m=\u001b[0m\u001b[0mname\u001b[0m\u001b[0;34m)\u001b[0m\u001b[0;34m\u001b[0m\u001b[0m\n\u001b[0m\u001b[1;32m    122\u001b[0m \u001b[0;34m\u001b[0m\u001b[0m\n\u001b[1;32m    123\u001b[0m \u001b[0;34m\u001b[0m\u001b[0m\n",
      "\u001b[0;32m/opt/conda/lib/python3.6/site-packages/tensorflow/python/framework/constant_op.py\u001b[0m in \u001b[0;36mconstant\u001b[0;34m(value, dtype, shape, name, verify_shape)\u001b[0m\n\u001b[1;32m    100\u001b[0m   \u001b[0mtensor_value\u001b[0m \u001b[0;34m=\u001b[0m \u001b[0mattr_value_pb2\u001b[0m\u001b[0;34m.\u001b[0m\u001b[0mAttrValue\u001b[0m\u001b[0;34m(\u001b[0m\u001b[0;34m)\u001b[0m\u001b[0;34m\u001b[0m\u001b[0m\n\u001b[1;32m    101\u001b[0m   tensor_value.tensor.CopyFrom(\n\u001b[0;32m--> 102\u001b[0;31m       tensor_util.make_tensor_proto(value, dtype=dtype, shape=shape, verify_shape=verify_shape))\n\u001b[0m\u001b[1;32m    103\u001b[0m   \u001b[0mdtype_value\u001b[0m \u001b[0;34m=\u001b[0m \u001b[0mattr_value_pb2\u001b[0m\u001b[0;34m.\u001b[0m\u001b[0mAttrValue\u001b[0m\u001b[0;34m(\u001b[0m\u001b[0mtype\u001b[0m\u001b[0;34m=\u001b[0m\u001b[0mtensor_value\u001b[0m\u001b[0;34m.\u001b[0m\u001b[0mtensor\u001b[0m\u001b[0;34m.\u001b[0m\u001b[0mdtype\u001b[0m\u001b[0;34m)\u001b[0m\u001b[0;34m\u001b[0m\u001b[0m\n\u001b[1;32m    104\u001b[0m   const_tensor = g.create_op(\n",
      "\u001b[0;32m/opt/conda/lib/python3.6/site-packages/tensorflow/python/framework/tensor_util.py\u001b[0m in \u001b[0;36mmake_tensor_proto\u001b[0;34m(values, dtype, shape, verify_shape)\u001b[0m\n\u001b[1;32m    473\u001b[0m     raise TypeError(\"Element type not supported in TensorProto: %s\" %\n\u001b[1;32m    474\u001b[0m                     numpy_dtype.name)\n\u001b[0;32m--> 475\u001b[0;31m   \u001b[0mappend_fn\u001b[0m\u001b[0;34m(\u001b[0m\u001b[0mtensor_proto\u001b[0m\u001b[0;34m,\u001b[0m \u001b[0mproto_values\u001b[0m\u001b[0;34m)\u001b[0m\u001b[0;34m\u001b[0m\u001b[0m\n\u001b[0m\u001b[1;32m    476\u001b[0m \u001b[0;34m\u001b[0m\u001b[0m\n\u001b[1;32m    477\u001b[0m   \u001b[0;32mreturn\u001b[0m \u001b[0mtensor_proto\u001b[0m\u001b[0;34m\u001b[0m\u001b[0m\n",
      "\u001b[0;32m/opt/conda/lib/python3.6/site-packages/tensorflow/python/framework/tensor_util.py\u001b[0m in \u001b[0;36mSlowAppendObjectArrayToTensorProto\u001b[0;34m(tensor_proto, proto_values)\u001b[0m\n\u001b[1;32m    107\u001b[0m \u001b[0;34m\u001b[0m\u001b[0m\n\u001b[1;32m    108\u001b[0m   \u001b[0;32mdef\u001b[0m \u001b[0mSlowAppendObjectArrayToTensorProto\u001b[0m\u001b[0;34m(\u001b[0m\u001b[0mtensor_proto\u001b[0m\u001b[0;34m,\u001b[0m \u001b[0mproto_values\u001b[0m\u001b[0;34m)\u001b[0m\u001b[0;34m:\u001b[0m\u001b[0;34m\u001b[0m\u001b[0m\n\u001b[0;32m--> 109\u001b[0;31m     \u001b[0mtensor_proto\u001b[0m\u001b[0;34m.\u001b[0m\u001b[0mstring_val\u001b[0m\u001b[0;34m.\u001b[0m\u001b[0mextend\u001b[0m\u001b[0;34m(\u001b[0m\u001b[0;34m[\u001b[0m\u001b[0mcompat\u001b[0m\u001b[0;34m.\u001b[0m\u001b[0mas_bytes\u001b[0m\u001b[0;34m(\u001b[0m\u001b[0mx\u001b[0m\u001b[0;34m)\u001b[0m \u001b[0;32mfor\u001b[0m \u001b[0mx\u001b[0m \u001b[0;32min\u001b[0m \u001b[0mproto_values\u001b[0m\u001b[0;34m]\u001b[0m\u001b[0;34m)\u001b[0m\u001b[0;34m\u001b[0m\u001b[0m\n\u001b[0m\u001b[1;32m    110\u001b[0m \u001b[0;34m\u001b[0m\u001b[0m\n\u001b[1;32m    111\u001b[0m   \u001b[0;32mdef\u001b[0m \u001b[0mSlowAppendBoolArrayToTensorProto\u001b[0m\u001b[0;34m(\u001b[0m\u001b[0mtensor_proto\u001b[0m\u001b[0;34m,\u001b[0m \u001b[0mproto_values\u001b[0m\u001b[0;34m)\u001b[0m\u001b[0;34m:\u001b[0m\u001b[0;34m\u001b[0m\u001b[0m\n",
      "\u001b[0;32m/opt/conda/lib/python3.6/site-packages/tensorflow/python/framework/tensor_util.py\u001b[0m in \u001b[0;36m<listcomp>\u001b[0;34m(.0)\u001b[0m\n\u001b[1;32m    107\u001b[0m \u001b[0;34m\u001b[0m\u001b[0m\n\u001b[1;32m    108\u001b[0m   \u001b[0;32mdef\u001b[0m \u001b[0mSlowAppendObjectArrayToTensorProto\u001b[0m\u001b[0;34m(\u001b[0m\u001b[0mtensor_proto\u001b[0m\u001b[0;34m,\u001b[0m \u001b[0mproto_values\u001b[0m\u001b[0;34m)\u001b[0m\u001b[0;34m:\u001b[0m\u001b[0;34m\u001b[0m\u001b[0m\n\u001b[0;32m--> 109\u001b[0;31m     \u001b[0mtensor_proto\u001b[0m\u001b[0;34m.\u001b[0m\u001b[0mstring_val\u001b[0m\u001b[0;34m.\u001b[0m\u001b[0mextend\u001b[0m\u001b[0;34m(\u001b[0m\u001b[0;34m[\u001b[0m\u001b[0mcompat\u001b[0m\u001b[0;34m.\u001b[0m\u001b[0mas_bytes\u001b[0m\u001b[0;34m(\u001b[0m\u001b[0mx\u001b[0m\u001b[0;34m)\u001b[0m \u001b[0;32mfor\u001b[0m \u001b[0mx\u001b[0m \u001b[0;32min\u001b[0m \u001b[0mproto_values\u001b[0m\u001b[0;34m]\u001b[0m\u001b[0;34m)\u001b[0m\u001b[0;34m\u001b[0m\u001b[0m\n\u001b[0m\u001b[1;32m    110\u001b[0m \u001b[0;34m\u001b[0m\u001b[0m\n\u001b[1;32m    111\u001b[0m   \u001b[0;32mdef\u001b[0m \u001b[0mSlowAppendBoolArrayToTensorProto\u001b[0m\u001b[0;34m(\u001b[0m\u001b[0mtensor_proto\u001b[0m\u001b[0;34m,\u001b[0m \u001b[0mproto_values\u001b[0m\u001b[0;34m)\u001b[0m\u001b[0;34m:\u001b[0m\u001b[0;34m\u001b[0m\u001b[0m\n",
      "\u001b[0;32m/opt/conda/lib/python3.6/site-packages/tensorflow/python/util/compat.py\u001b[0m in \u001b[0;36mas_bytes\u001b[0;34m(bytes_or_text, encoding)\u001b[0m\n\u001b[1;32m     63\u001b[0m   \u001b[0;32melse\u001b[0m\u001b[0;34m:\u001b[0m\u001b[0;34m\u001b[0m\u001b[0m\n\u001b[1;32m     64\u001b[0m     raise TypeError('Expected binary or unicode string, got %r' %\n\u001b[0;32m---> 65\u001b[0;31m                     (bytes_or_text,))\n\u001b[0m\u001b[1;32m     66\u001b[0m \u001b[0;34m\u001b[0m\u001b[0m\n\u001b[1;32m     67\u001b[0m \u001b[0;34m\u001b[0m\u001b[0m\n",
      "\u001b[0;31mTypeError\u001b[0m: Expected binary or unicode string, got array([[[ 1.       ,  1.       ,  1.       ],\n        [ 1.       ,  1.       ,  1.       ],\n        [ 1.       ,  1.       ,  1.       ],\n        ..., \n        [ 1.       ,  1.       ,  1.       ],\n        [ 1.       ,  1.       ,  1.       ],\n        [ 1.       ,  1.       ,  1.       ]],\n\n       [[ 1.       ,  1.       ,  1.       ],\n        [ 1.       ,  1.       ,  1.       ],\n        [ 1.       ,  1.       ,  1.       ],\n        ..., \n        [ 1.       ,  1.       ,  1.       ],\n        [ 1.       ,  1.       ,  1.       ],\n        [ 1.       ,  1.       ,  1.       ]],\n\n       [[ 1.       ,  1.       ,  1.       ],\n        [ 1.       ,  1.       ,  1.       ],\n        [ 1.       ,  1.       ,  1.       ],\n        ..., \n        [ 1.       ,  1.       ,  1.       ],\n        [ 1.       ,  1.       ,  1.       ],\n        [ 1.       ,  1.       ,  1.       ]],\n\n       ..., \n       [[ 0.359375 ,  0.359375 ,  0.359375 ],\n        [ 0.9375   ,  0.9375   ,  0.9375   ],\n        [ 0.5703125,  0.546875 ,  0.875    ],\n        ..., \n        [ 0.5078125,  0.484375 ,  0.859375 ],\n        [ 0.9375   ,  0.9375   ,  0.9375   ],\n        [ 0.34375  ,  0.34375  ,  0.34375  ]],\n\n       [[ 1.       ,  1.       ,  1.       ],\n        [ 0.515625 ,  0.515625 ,  0.515625 ],\n        [ 0.9296875,  0.9296875,  0.9296875],\n        ..., \n        [ 0.9375   ,  0.9375   ,  0.9375   ],\n        [ 0.5234375,  0.5234375,  0.5234375],\n        [ 1.       ,  1.       ,  1.       ]],\n\n       [[ 1.       ,  1.       ,  1.       ],\n        [ 1.       ,  1.       ,  1.       ],\n        [ 0.296875 ,  0.296875 ,  0.296875 ],\n        ..., \n        [ 0.296875 ,  0.296875 ,  0.296875 ],\n        [ 1.       ,  1.       ,  1.       ],\n        [ 1.       ,  1.       ,  1.       ]]])"
     ]
    }
   ],
   "source": [
    "### Calculate the accuracy for these 5 new images. \n",
    "### For example, if the model predicted 1 out of 5 signs correctly, it's 20% accurate on these new images.\n",
    "def top5(data, labels, sess):\n",
    "    prob = sess.run(tf.nn.softmax(labels, feed_dict={x: data}))\n",
    "    top5 = tf.nn.top_k(prob, k=5)\n",
    "    return top5\n",
    "\n",
    "with tf.Session() as sess:\n",
    "    saver.restore(sess, './lenet')\n",
    "    probs = tf.nn.softmax_cross_entropy_with_logits(labels=my_labels, logits=my_signs)\n",
    "    sess.run(tf.nn.top_k(tf.constant(probs), k=3))\n",
    "    #signs_top5 = top5(my_signs, my_labels, sess)"
   ]
  },
  {
   "cell_type": "code",
   "execution_count": null,
   "metadata": {},
   "outputs": [],
   "source": [
    "plt.figure(figsize=(16, 9))\n",
    "for i in range(5):\n",
    "    fig = {}\n",
    "    labels = {}\n",
    "    \n",
    "    fig[0] = my_signs[i]\n",
    "    labels[0] = 'Input'\n",
    "    \n",
    "    for j in range(5):\n",
    "        labels[j+1] = 'Guess {} : ({:.0f}%)'.format(j+1, 100*signs_top5[0][i][j])\n",
    "        fig[j+1] = X_valid[np.argwhere(y_valid == signs_top5[1][i][j])[0]].squeeze()"
   ]
  },
  {
   "cell_type": "code",
   "execution_count": null,
   "metadata": {},
   "outputs": [],
   "source": []
  },
  {
   "cell_type": "markdown",
   "metadata": {},
   "source": [
    "### Output Top 5 Softmax Probabilities For Each Image Found on the Web"
   ]
  },
  {
   "cell_type": "markdown",
   "metadata": {},
   "source": [
    "For each of the new images, print out the model's softmax probabilities to show the **certainty** of the model's predictions (limit the output to the top 5 probabilities for each image). [`tf.nn.top_k`](https://www.tensorflow.org/versions/r0.12/api_docs/python/nn.html#top_k) could prove helpful here. \n",
    "\n",
    "The example below demonstrates how tf.nn.top_k can be used to find the top k predictions for each image.\n",
    "\n",
    "`tf.nn.top_k` will return the values and indices (class ids) of the top k predictions. So if k=3, for each sign, it'll return the 3 largest probabilities (out of a possible 43) and the correspoding class ids.\n",
    "\n",
    "Take this numpy array as an example. The values in the array represent predictions. The array contains softmax probabilities for five candidate images with six possible classes. `tf.nn.top_k` is used to choose the three classes with the highest probability:\n",
    "\n",
    "```\n",
    "# (5, 6) array\n",
    "a = np.array([[ 0.24879643,  0.07032244,  0.12641572,  0.34763842,  0.07893497,\n",
    "         0.12789202],\n",
    "       [ 0.28086119,  0.27569815,  0.08594638,  0.0178669 ,  0.18063401,\n",
    "         0.15899337],\n",
    "       [ 0.26076848,  0.23664738,  0.08020603,  0.07001922,  0.1134371 ,\n",
    "         0.23892179],\n",
    "       [ 0.11943333,  0.29198961,  0.02605103,  0.26234032,  0.1351348 ,\n",
    "         0.16505091],\n",
    "       [ 0.09561176,  0.34396535,  0.0643941 ,  0.16240774,  0.24206137,\n",
    "         0.09155967]])\n",
    "```\n",
    "\n",
    "Running it through `sess.run(tf.nn.top_k(tf.constant(a), k=3))` produces:\n",
    "\n",
    "```\n",
    "TopKV2(values=array([[ 0.34763842,  0.24879643,  0.12789202],\n",
    "       [ 0.28086119,  0.27569815,  0.18063401],\n",
    "       [ 0.26076848,  0.23892179,  0.23664738],\n",
    "       [ 0.29198961,  0.26234032,  0.16505091],\n",
    "       [ 0.34396535,  0.24206137,  0.16240774]]), indices=array([[3, 0, 5],\n",
    "       [0, 1, 4],\n",
    "       [0, 5, 1],\n",
    "       [1, 3, 5],\n",
    "       [1, 4, 3]], dtype=int32))\n",
    "```\n",
    "\n",
    "Looking just at the first row we get `[ 0.34763842,  0.24879643,  0.12789202]`, you can confirm these are the 3 largest probabilities in `a`. You'll also notice `[3, 0, 5]` are the corresponding indices."
   ]
  },
  {
   "cell_type": "code",
   "execution_count": 24,
   "metadata": {},
   "outputs": [],
   "source": [
    "### Print out the top five softmax probabilities for the predictions on the German traffic sign images found on the web. \n",
    "### Feel free to use as many code cells as needed."
   ]
  },
  {
   "cell_type": "markdown",
   "metadata": {},
   "source": [
    "### Project Writeup\n",
    "\n",
    "Once you have completed the code implementation, document your results in a project writeup using this [template](https://github.com/udacity/CarND-Traffic-Sign-Classifier-Project/blob/master/writeup_template.md) as a guide. The writeup can be in a markdown or pdf file. "
   ]
  },
  {
   "cell_type": "markdown",
   "metadata": {},
   "source": [
    "> **Note**: Once you have completed all of the code implementations and successfully answered each question above, you may finalize your work by exporting the iPython Notebook as an HTML document. You can do this by using the menu above and navigating to  \\n\",\n",
    "    \"**File -> Download as -> HTML (.html)**. Include the finished document along with this notebook as your submission."
   ]
  },
  {
   "cell_type": "markdown",
   "metadata": {},
   "source": [
    "---\n",
    "\n",
    "## Step 4 (Optional): Visualize the Neural Network's State with Test Images\n",
    "\n",
    " This Section is not required to complete but acts as an additional excersise for understaning the output of a neural network's weights. While neural networks can be a great learning device they are often referred to as a black box. We can understand what the weights of a neural network look like better by plotting their feature maps. After successfully training your neural network you can see what it's feature maps look like by plotting the output of the network's weight layers in response to a test stimuli image. From these plotted feature maps, it's possible to see what characteristics of an image the network finds interesting. For a sign, maybe the inner network feature maps react with high activation to the sign's boundary outline or to the contrast in the sign's painted symbol.\n",
    "\n",
    " Provided for you below is the function code that allows you to get the visualization output of any tensorflow weight layer you want. The inputs to the function should be a stimuli image, one used during training or a new one you provided, and then the tensorflow variable name that represents the layer's state during the training process, for instance if you wanted to see what the [LeNet lab's](https://classroom.udacity.com/nanodegrees/nd013/parts/fbf77062-5703-404e-b60c-95b78b2f3f9e/modules/6df7ae49-c61c-4bb2-a23e-6527e69209ec/lessons/601ae704-1035-4287-8b11-e2c2716217ad/concepts/d4aca031-508f-4e0b-b493-e7b706120f81) feature maps looked like for it's second convolutional layer you could enter conv2 as the tf_activation variable.\n",
    "\n",
    "For an example of what feature map outputs look like, check out NVIDIA's results in their paper [End-to-End Deep Learning for Self-Driving Cars](https://devblogs.nvidia.com/parallelforall/deep-learning-self-driving-cars/) in the section Visualization of internal CNN State. NVIDIA was able to show that their network's inner weights had high activations to road boundary lines by comparing feature maps from an image with a clear path to one without. Try experimenting with a similar test to show that your trained network's weights are looking for interesting features, whether it's looking at differences in feature maps from images with or without a sign, or even what feature maps look like in a trained network vs a completely untrained one on the same sign image.\n",
    "\n",
    "<figure>\n",
    " <img src=\"visualize_cnn.png\" width=\"380\" alt=\"Combined Image\" />\n",
    " <figcaption>\n",
    " <p></p> \n",
    " <p style=\"text-align: center;\"> Your output should look something like this (above)</p> \n",
    " </figcaption>\n",
    "</figure>\n",
    " <p></p> \n"
   ]
  },
  {
   "cell_type": "code",
   "execution_count": 25,
   "metadata": {},
   "outputs": [],
   "source": [
    "### Visualize your network's feature maps here.\n",
    "### Feel free to use as many code cells as needed.\n",
    "\n",
    "# image_input: the test image being fed into the network to produce the feature maps\n",
    "# tf_activation: should be a tf variable name used during your training procedure that represents the calculated state of a specific weight layer\n",
    "# activation_min/max: can be used to view the activation contrast in more detail, by default matplot sets min and max to the actual min and max values of the output\n",
    "# plt_num: used to plot out multiple different weight feature map sets on the same block, just extend the plt number for each new feature map entry\n",
    "\n",
    "def outputFeatureMap(image_input, tf_activation, activation_min=-1, activation_max=-1 ,plt_num=1):\n",
    "    # Here make sure to preprocess your image_input in a way your network expects\n",
    "    # with size, normalization, ect if needed\n",
    "    # image_input =\n",
    "    # Note: x should be the same name as your network's tensorflow data placeholder variable\n",
    "    # If you get an error tf_activation is not defined it may be having trouble accessing the variable from inside a function\n",
    "    activation = tf_activation.eval(session=sess,feed_dict={x : image_input})\n",
    "    featuremaps = activation.shape[3]\n",
    "    plt.figure(plt_num, figsize=(15,15))\n",
    "    for featuremap in range(featuremaps):\n",
    "        plt.subplot(6,8, featuremap+1) # sets the number of feature maps to show on each row and column\n",
    "        plt.title('FeatureMap ' + str(featuremap)) # displays the feature map number\n",
    "        if activation_min != -1 & activation_max != -1:\n",
    "            plt.imshow(activation[0,:,:, featuremap], interpolation=\"nearest\", vmin =activation_min, vmax=activation_max, cmap=\"gray\")\n",
    "        elif activation_max != -1:\n",
    "            plt.imshow(activation[0,:,:, featuremap], interpolation=\"nearest\", vmax=activation_max, cmap=\"gray\")\n",
    "        elif activation_min !=-1:\n",
    "            plt.imshow(activation[0,:,:, featuremap], interpolation=\"nearest\", vmin=activation_min, cmap=\"gray\")\n",
    "        else:\n",
    "            plt.imshow(activation[0,:,:, featuremap], interpolation=\"nearest\", cmap=\"gray\")"
   ]
  },
  {
   "cell_type": "code",
   "execution_count": null,
   "metadata": {},
   "outputs": [],
   "source": []
  },
  {
   "cell_type": "code",
   "execution_count": null,
   "metadata": {},
   "outputs": [],
   "source": []
  },
  {
   "cell_type": "code",
   "execution_count": null,
   "metadata": {},
   "outputs": [],
   "source": []
  }
 ],
 "metadata": {
  "anaconda-cloud": {},
  "kernelspec": {
   "display_name": "Python 3",
   "language": "python",
   "name": "python3"
  },
  "language_info": {
   "codemirror_mode": {
    "name": "ipython",
    "version": 3
   },
   "file_extension": ".py",
   "mimetype": "text/x-python",
   "name": "python",
   "nbconvert_exporter": "python",
   "pygments_lexer": "ipython3",
   "version": "3.6.3"
  }
 },
 "nbformat": 4,
 "nbformat_minor": 1
}
